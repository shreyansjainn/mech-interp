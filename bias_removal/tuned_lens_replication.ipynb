{
 "cells": [
  {
   "cell_type": "code",
   "execution_count": 3,
   "id": "c1882b1f-a26e-45fc-aa57-201dddccb8e2",
   "metadata": {},
   "outputs": [],
   "source": [
    "import torch\n",
    "from tuned_lens.nn.lenses import TunedLens, LogitLens\n",
    "from transformers import AutoModelForCausalLM, AutoTokenizer\n",
    "\n",
    "device = torch.device('cpu')\n",
    "# To try a diffrent modle / lens check if the lens is avalible then modify this code\n",
    "model = AutoModelForCausalLM.from_pretrained('gpt2')\n",
    "model = model.to(device)\n",
    "tokenizer = AutoTokenizer.from_pretrained('gpt2')\n",
    "tuned_lens = TunedLens.from_model_and_pretrained(model)\n",
    "tuned_lens = tuned_lens.to(device)\n",
    "logit_lens = LogitLens.from_model(model)"
   ]
  },
  {
   "cell_type": "code",
   "execution_count": 4,
   "id": "1b5b7ce0-acf6-4fb9-81ea-a88156614cd3",
   "metadata": {},
   "outputs": [
    {
     "data": {
      "application/vnd.jupyter.widget-view+json": {
       "model_id": "8640e173da144826ab00df7ce2beba4f",
       "version_major": 2,
       "version_minor": 0
      },
      "text/plain": [
       "interactive(children=(Dropdown(description='Select Lens:', options=(('Tuned Lens', TunedLens(\n",
       "  (unembed): Une…"
      ]
     },
     "metadata": {},
     "output_type": "display_data"
    }
   ],
   "source": [
    "from tuned_lens.plotting import PredictionTrajectory\n",
    "import ipywidgets as widgets\n",
    "from plotly import graph_objects as go\n",
    "\n",
    "\n",
    "def make_plot(lens, text, layer_stride, statistic, token_range):\n",
    "    input_ids = tokenizer.encode(text)\n",
    "    targets = input_ids[1:] + [tokenizer.eos_token_id]\n",
    "\n",
    "    if len(input_ids) == 0:\n",
    "        return widgets.Text(\"Please enter some text.\")\n",
    "    \n",
    "    if (token_range[0] == token_range[1]):\n",
    "        return widgets.Text(\"Please provide valid token range.\")\n",
    "    pred_traj = PredictionTrajectory.from_lens_and_model(\n",
    "        lens=lens,\n",
    "        model=model,\n",
    "        input_ids=input_ids,\n",
    "        tokenizer=tokenizer,\n",
    "        targets=targets,\n",
    "    ).slice_sequence(slice(*token_range))\n",
    "\n",
    "    return getattr(pred_traj, statistic)().stride(layer_stride).figure(\n",
    "        title=f\"{lens.__class__.__name__} ({model.name_or_path}) {statistic}\",\n",
    "    )\n",
    "\n",
    "style = {'description_width': 'initial'}\n",
    "statistic_wdg = widgets.Dropdown(\n",
    "    options=[\n",
    "        ('Entropy', 'entropy'),\n",
    "        ('Cross Entropy', 'cross_entropy'),\n",
    "        ('Forward KL', 'forward_kl'),\n",
    "    ],\n",
    "    description='Select Statistic:',\n",
    "    style=style,\n",
    ")\n",
    "text_wdg = widgets.Textarea(\n",
    "    description=\"Input Text\",\n",
    "    value=\"it was the best of times, it was the worst of times\",\n",
    ")\n",
    "lens_wdg = widgets.Dropdown(\n",
    "    options=[('Tuned Lens', tuned_lens), ('Logit Lens', logit_lens)],\n",
    "    description='Select Lens:',\n",
    "    style=style,\n",
    ")\n",
    "\n",
    "layer_stride_wdg = widgets.BoundedIntText(\n",
    "    value=2,\n",
    "    min=1,\n",
    "    max=10,\n",
    "    step=1,\n",
    "    description='Layer Stride:',\n",
    "    disabled=False\n",
    ")\n",
    "\n",
    "token_range_wdg = widgets.IntRangeSlider(\n",
    "    description='Token Range',\n",
    "    min=0,\n",
    "    max=1,\n",
    "    step=1,\n",
    "    style=style,\n",
    ")\n",
    "\n",
    "\n",
    "def update_token_range(*args):\n",
    "    token_range_wdg.max = len(tokenizer.encode(text_wdg.value))\n",
    "\n",
    "update_token_range()\n",
    "\n",
    "token_range_wdg.value = [0, token_range_wdg.max]\n",
    "text_wdg.observe(update_token_range, 'value')\n",
    "\n",
    "interact = widgets.interact.options(manual_name='Run Lens', manual=True)\n",
    "\n",
    "plot = interact(\n",
    "    make_plot,\n",
    "    text=text_wdg,\n",
    "    statistic=statistic_wdg,\n",
    "    lens=lens_wdg,\n",
    "    layer_stride=layer_stride_wdg,\n",
    "    token_range=token_range_wdg,\n",
    ")"
   ]
  },
  {
   "cell_type": "code",
   "execution_count": null,
   "id": "4ad4ee75-ac9f-43cb-ba66-0f2651935a95",
   "metadata": {},
   "outputs": [],
   "source": []
  }
 ],
 "metadata": {
  "kernelspec": {
   "display_name": "Python 3 (ipykernel)",
   "language": "python",
   "name": "python3"
  },
  "language_info": {
   "codemirror_mode": {
    "name": "ipython",
    "version": 3
   },
   "file_extension": ".py",
   "mimetype": "text/x-python",
   "name": "python",
   "nbconvert_exporter": "python",
   "pygments_lexer": "ipython3",
   "version": "3.10.14"
  },
  "vscode": {
   "interpreter": {
    "hash": "329f5209797e08a922a038297e22e7224e366a4ecf2acaaf92f6db030a133bf7"
   }
  }
 },
 "nbformat": 4,
 "nbformat_minor": 5
}
